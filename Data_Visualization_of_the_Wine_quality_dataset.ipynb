{
  "nbformat": 4,
  "nbformat_minor": 0,
  "metadata": {
    "colab": {
      "provenance": [],
      "toc_visible": true,
      "authorship_tag": "ABX9TyNZGcTvwYH2Tw9Z26bBw7MT",
      "include_colab_link": true
    },
    "kernelspec": {
      "name": "python3",
      "display_name": "Python 3"
    },
    "language_info": {
      "name": "python"
    }
  },
  "cells": [
    {
      "cell_type": "markdown",
      "metadata": {
        "id": "view-in-github",
        "colab_type": "text"
      },
      "source": [
        "<a href=\"https://colab.research.google.com/github/DeborahAywa/Data-visualization-in-python/blob/main/Data_Visualization_of_the_Wine_quality_dataset.ipynb\" target=\"_parent\"><img src=\"https://colab.research.google.com/assets/colab-badge.svg\" alt=\"Open In Colab\"/></a>"
      ]
    },
    {
      "cell_type": "code",
      "execution_count": null,
      "metadata": {
        "id": "ago3LyPXKKI5"
      },
      "outputs": [],
      "source": []
    },
    {
      "cell_type": "markdown",
      "source": [
        "#Installing the libraries I will use and the wine quality dataset."
      ],
      "metadata": {
        "id": "jL1WvLcNKhC7"
      }
    },
    {
      "cell_type": "code",
      "source": [
        "# Installing the libraries\n",
        "!pip install plotly"
      ],
      "metadata": {
        "colab": {
          "base_uri": "https://localhost:8080/"
        },
        "id": "DNNTqbM_KzEa",
        "outputId": "814283b3-ea2b-4731-c691-ca8e762f20da"
      },
      "execution_count": null,
      "outputs": [
        {
          "output_type": "stream",
          "name": "stdout",
          "text": [
            "Requirement already satisfied: plotly in /usr/local/lib/python3.7/dist-packages (5.5.0)\n",
            "Requirement already satisfied: six in /usr/local/lib/python3.7/dist-packages (from plotly) (1.15.0)\n",
            "Requirement already satisfied: tenacity>=6.2.0 in /usr/local/lib/python3.7/dist-packages (from plotly) (8.0.1)\n"
          ]
        }
      ]
    },
    {
      "cell_type": "code",
      "source": [
        "import pandas as pd\n",
        "import numpy as np\n",
        "import matplotlib.pyplot as plt\n",
        "import seaborn as sns\n",
        "import plotly.express as px"
      ],
      "metadata": {
        "id": "F4-dpXOhLHaJ"
      },
      "execution_count": null,
      "outputs": []
    },
    {
      "cell_type": "code",
      "source": [
        "#Reading the wine_quality dataset\n",
        "wine_quality = pd.read_csv(\"/content/winequality-red.csv\")\n",
        "wine_quality.head()\n",
        "\n"
      ],
      "metadata": {
        "id": "7sdk6hObLvwb",
        "colab": {
          "base_uri": "https://localhost:8080/",
          "height": 285
        },
        "outputId": "f53b207e-2a82-41e0-c15c-f40a21f304ec"
      },
      "execution_count": null,
      "outputs": [
        {
          "output_type": "execute_result",
          "data": {
            "text/html": [
              "\n",
              "  <div id=\"df-f64f9201-c679-4635-95f7-732638894662\">\n",
              "    <div class=\"colab-df-container\">\n",
              "      <div>\n",
              "<style scoped>\n",
              "    .dataframe tbody tr th:only-of-type {\n",
              "        vertical-align: middle;\n",
              "    }\n",
              "\n",
              "    .dataframe tbody tr th {\n",
              "        vertical-align: top;\n",
              "    }\n",
              "\n",
              "    .dataframe thead th {\n",
              "        text-align: right;\n",
              "    }\n",
              "</style>\n",
              "<table border=\"1\" class=\"dataframe\">\n",
              "  <thead>\n",
              "    <tr style=\"text-align: right;\">\n",
              "      <th></th>\n",
              "      <th>fixed acidity</th>\n",
              "      <th>volatile acidity</th>\n",
              "      <th>citric acid</th>\n",
              "      <th>residual sugar</th>\n",
              "      <th>chlorides</th>\n",
              "      <th>free sulfur dioxide</th>\n",
              "      <th>total sulfur dioxide</th>\n",
              "      <th>density</th>\n",
              "      <th>pH</th>\n",
              "      <th>sulphates</th>\n",
              "      <th>alcohol</th>\n",
              "      <th>quality</th>\n",
              "    </tr>\n",
              "  </thead>\n",
              "  <tbody>\n",
              "    <tr>\n",
              "      <th>0</th>\n",
              "      <td>7.4</td>\n",
              "      <td>0.70</td>\n",
              "      <td>0.00</td>\n",
              "      <td>1.9</td>\n",
              "      <td>0.076</td>\n",
              "      <td>11.0</td>\n",
              "      <td>34.0</td>\n",
              "      <td>0.9978</td>\n",
              "      <td>3.51</td>\n",
              "      <td>0.56</td>\n",
              "      <td>9.4</td>\n",
              "      <td>5</td>\n",
              "    </tr>\n",
              "    <tr>\n",
              "      <th>1</th>\n",
              "      <td>7.8</td>\n",
              "      <td>0.88</td>\n",
              "      <td>0.00</td>\n",
              "      <td>2.6</td>\n",
              "      <td>0.098</td>\n",
              "      <td>25.0</td>\n",
              "      <td>67.0</td>\n",
              "      <td>0.9968</td>\n",
              "      <td>3.20</td>\n",
              "      <td>0.68</td>\n",
              "      <td>9.8</td>\n",
              "      <td>5</td>\n",
              "    </tr>\n",
              "    <tr>\n",
              "      <th>2</th>\n",
              "      <td>7.8</td>\n",
              "      <td>0.76</td>\n",
              "      <td>0.04</td>\n",
              "      <td>2.3</td>\n",
              "      <td>0.092</td>\n",
              "      <td>15.0</td>\n",
              "      <td>54.0</td>\n",
              "      <td>0.9970</td>\n",
              "      <td>3.26</td>\n",
              "      <td>0.65</td>\n",
              "      <td>9.8</td>\n",
              "      <td>5</td>\n",
              "    </tr>\n",
              "    <tr>\n",
              "      <th>3</th>\n",
              "      <td>11.2</td>\n",
              "      <td>0.28</td>\n",
              "      <td>0.56</td>\n",
              "      <td>1.9</td>\n",
              "      <td>0.075</td>\n",
              "      <td>17.0</td>\n",
              "      <td>60.0</td>\n",
              "      <td>0.9980</td>\n",
              "      <td>3.16</td>\n",
              "      <td>0.58</td>\n",
              "      <td>9.8</td>\n",
              "      <td>6</td>\n",
              "    </tr>\n",
              "    <tr>\n",
              "      <th>4</th>\n",
              "      <td>7.4</td>\n",
              "      <td>0.70</td>\n",
              "      <td>0.00</td>\n",
              "      <td>1.9</td>\n",
              "      <td>0.076</td>\n",
              "      <td>11.0</td>\n",
              "      <td>34.0</td>\n",
              "      <td>0.9978</td>\n",
              "      <td>3.51</td>\n",
              "      <td>0.56</td>\n",
              "      <td>9.4</td>\n",
              "      <td>5</td>\n",
              "    </tr>\n",
              "  </tbody>\n",
              "</table>\n",
              "</div>\n",
              "      <button class=\"colab-df-convert\" onclick=\"convertToInteractive('df-f64f9201-c679-4635-95f7-732638894662')\"\n",
              "              title=\"Convert this dataframe to an interactive table.\"\n",
              "              style=\"display:none;\">\n",
              "        \n",
              "  <svg xmlns=\"http://www.w3.org/2000/svg\" height=\"24px\"viewBox=\"0 0 24 24\"\n",
              "       width=\"24px\">\n",
              "    <path d=\"M0 0h24v24H0V0z\" fill=\"none\"/>\n",
              "    <path d=\"M18.56 5.44l.94 2.06.94-2.06 2.06-.94-2.06-.94-.94-2.06-.94 2.06-2.06.94zm-11 1L8.5 8.5l.94-2.06 2.06-.94-2.06-.94L8.5 2.5l-.94 2.06-2.06.94zm10 10l.94 2.06.94-2.06 2.06-.94-2.06-.94-.94-2.06-.94 2.06-2.06.94z\"/><path d=\"M17.41 7.96l-1.37-1.37c-.4-.4-.92-.59-1.43-.59-.52 0-1.04.2-1.43.59L10.3 9.45l-7.72 7.72c-.78.78-.78 2.05 0 2.83L4 21.41c.39.39.9.59 1.41.59.51 0 1.02-.2 1.41-.59l7.78-7.78 2.81-2.81c.8-.78.8-2.07 0-2.86zM5.41 20L4 18.59l7.72-7.72 1.47 1.35L5.41 20z\"/>\n",
              "  </svg>\n",
              "      </button>\n",
              "      \n",
              "  <style>\n",
              "    .colab-df-container {\n",
              "      display:flex;\n",
              "      flex-wrap:wrap;\n",
              "      gap: 12px;\n",
              "    }\n",
              "\n",
              "    .colab-df-convert {\n",
              "      background-color: #E8F0FE;\n",
              "      border: none;\n",
              "      border-radius: 50%;\n",
              "      cursor: pointer;\n",
              "      display: none;\n",
              "      fill: #1967D2;\n",
              "      height: 32px;\n",
              "      padding: 0 0 0 0;\n",
              "      width: 32px;\n",
              "    }\n",
              "\n",
              "    .colab-df-convert:hover {\n",
              "      background-color: #E2EBFA;\n",
              "      box-shadow: 0px 1px 2px rgba(60, 64, 67, 0.3), 0px 1px 3px 1px rgba(60, 64, 67, 0.15);\n",
              "      fill: #174EA6;\n",
              "    }\n",
              "\n",
              "    [theme=dark] .colab-df-convert {\n",
              "      background-color: #3B4455;\n",
              "      fill: #D2E3FC;\n",
              "    }\n",
              "\n",
              "    [theme=dark] .colab-df-convert:hover {\n",
              "      background-color: #434B5C;\n",
              "      box-shadow: 0px 1px 3px 1px rgba(0, 0, 0, 0.15);\n",
              "      filter: drop-shadow(0px 1px 2px rgba(0, 0, 0, 0.3));\n",
              "      fill: #FFFFFF;\n",
              "    }\n",
              "  </style>\n",
              "\n",
              "      <script>\n",
              "        const buttonEl =\n",
              "          document.querySelector('#df-f64f9201-c679-4635-95f7-732638894662 button.colab-df-convert');\n",
              "        buttonEl.style.display =\n",
              "          google.colab.kernel.accessAllowed ? 'block' : 'none';\n",
              "\n",
              "        async function convertToInteractive(key) {\n",
              "          const element = document.querySelector('#df-f64f9201-c679-4635-95f7-732638894662');\n",
              "          const dataTable =\n",
              "            await google.colab.kernel.invokeFunction('convertToInteractive',\n",
              "                                                     [key], {});\n",
              "          if (!dataTable) return;\n",
              "\n",
              "          const docLinkHtml = 'Like what you see? Visit the ' +\n",
              "            '<a target=\"_blank\" href=https://colab.research.google.com/notebooks/data_table.ipynb>data table notebook</a>'\n",
              "            + ' to learn more about interactive tables.';\n",
              "          element.innerHTML = '';\n",
              "          dataTable['output_type'] = 'display_data';\n",
              "          await google.colab.output.renderOutput(dataTable, element);\n",
              "          const docLink = document.createElement('div');\n",
              "          docLink.innerHTML = docLinkHtml;\n",
              "          element.appendChild(docLink);\n",
              "        }\n",
              "      </script>\n",
              "    </div>\n",
              "  </div>\n",
              "  "
            ],
            "text/plain": [
              "   fixed acidity  volatile acidity  citric acid  ...  sulphates  alcohol  quality\n",
              "0            7.4              0.70         0.00  ...       0.56      9.4        5\n",
              "1            7.8              0.88         0.00  ...       0.68      9.8        5\n",
              "2            7.8              0.76         0.04  ...       0.65      9.8        5\n",
              "3           11.2              0.28         0.56  ...       0.58      9.8        6\n",
              "4            7.4              0.70         0.00  ...       0.56      9.4        5\n",
              "\n",
              "[5 rows x 12 columns]"
            ]
          },
          "metadata": {},
          "execution_count": 4
        }
      ]
    },
    {
      "cell_type": "code",
      "source": [
        "#Check for data type\n",
        "print(type(wine_quality))"
      ],
      "metadata": {
        "colab": {
          "base_uri": "https://localhost:8080/"
        },
        "id": "iAE89efuPG2U",
        "outputId": "9bce0f1e-ad72-46b9-c026-12fb2efc1b66"
      },
      "execution_count": null,
      "outputs": [
        {
          "output_type": "stream",
          "name": "stdout",
          "text": [
            "<class 'pandas.core.frame.DataFrame'>\n"
          ]
        }
      ]
    },
    {
      "cell_type": "code",
      "source": [
        "#To see all the columns in the dataset\n",
        "wine_quality.columns"
      ],
      "metadata": {
        "colab": {
          "base_uri": "https://localhost:8080/"
        },
        "id": "tOmLxeXzPzGJ",
        "outputId": "0d076986-c643-47f4-f177-55795c465115"
      },
      "execution_count": null,
      "outputs": [
        {
          "output_type": "execute_result",
          "data": {
            "text/plain": [
              "Index(['fixed acidity', 'volatile acidity', 'citric acid', 'residual sugar',\n",
              "       'chlorides', 'free sulfur dioxide', 'total sulfur dioxide', 'density',\n",
              "       'pH', 'sulphates', 'alcohol', 'quality'],\n",
              "      dtype='object')"
            ]
          },
          "metadata": {},
          "execution_count": 6
        }
      ]
    },
    {
      "cell_type": "code",
      "source": [
        "#Rename some of the columns\n",
        "wine_quality.rename(columns = {'fixed acidity':'FA','volatile acidity':'VA','citric acid':'CA','residual sugar':'RS','free sulfur dioxide':'FSD','total sulfur dioxide':'TSD'},inplace = True)\n",
        "wine_quality.head()"
      ],
      "metadata": {
        "colab": {
          "base_uri": "https://localhost:8080/",
          "height": 206
        },
        "id": "BzN69PMYQBRa",
        "outputId": "6143bbb7-027c-4d71-facf-c3e17d16c462"
      },
      "execution_count": null,
      "outputs": [
        {
          "output_type": "execute_result",
          "data": {
            "text/html": [
              "\n",
              "  <div id=\"df-9d6754c7-2c92-49f8-b132-73dff523b279\">\n",
              "    <div class=\"colab-df-container\">\n",
              "      <div>\n",
              "<style scoped>\n",
              "    .dataframe tbody tr th:only-of-type {\n",
              "        vertical-align: middle;\n",
              "    }\n",
              "\n",
              "    .dataframe tbody tr th {\n",
              "        vertical-align: top;\n",
              "    }\n",
              "\n",
              "    .dataframe thead th {\n",
              "        text-align: right;\n",
              "    }\n",
              "</style>\n",
              "<table border=\"1\" class=\"dataframe\">\n",
              "  <thead>\n",
              "    <tr style=\"text-align: right;\">\n",
              "      <th></th>\n",
              "      <th>FA</th>\n",
              "      <th>VA</th>\n",
              "      <th>CA</th>\n",
              "      <th>RS</th>\n",
              "      <th>chlorides</th>\n",
              "      <th>FSD</th>\n",
              "      <th>TSD</th>\n",
              "      <th>density</th>\n",
              "      <th>pH</th>\n",
              "      <th>sulphates</th>\n",
              "      <th>alcohol</th>\n",
              "      <th>quality</th>\n",
              "    </tr>\n",
              "  </thead>\n",
              "  <tbody>\n",
              "    <tr>\n",
              "      <th>0</th>\n",
              "      <td>7.4</td>\n",
              "      <td>0.70</td>\n",
              "      <td>0.00</td>\n",
              "      <td>1.9</td>\n",
              "      <td>0.076</td>\n",
              "      <td>11.0</td>\n",
              "      <td>34.0</td>\n",
              "      <td>0.9978</td>\n",
              "      <td>3.51</td>\n",
              "      <td>0.56</td>\n",
              "      <td>9.4</td>\n",
              "      <td>5</td>\n",
              "    </tr>\n",
              "    <tr>\n",
              "      <th>1</th>\n",
              "      <td>7.8</td>\n",
              "      <td>0.88</td>\n",
              "      <td>0.00</td>\n",
              "      <td>2.6</td>\n",
              "      <td>0.098</td>\n",
              "      <td>25.0</td>\n",
              "      <td>67.0</td>\n",
              "      <td>0.9968</td>\n",
              "      <td>3.20</td>\n",
              "      <td>0.68</td>\n",
              "      <td>9.8</td>\n",
              "      <td>5</td>\n",
              "    </tr>\n",
              "    <tr>\n",
              "      <th>2</th>\n",
              "      <td>7.8</td>\n",
              "      <td>0.76</td>\n",
              "      <td>0.04</td>\n",
              "      <td>2.3</td>\n",
              "      <td>0.092</td>\n",
              "      <td>15.0</td>\n",
              "      <td>54.0</td>\n",
              "      <td>0.9970</td>\n",
              "      <td>3.26</td>\n",
              "      <td>0.65</td>\n",
              "      <td>9.8</td>\n",
              "      <td>5</td>\n",
              "    </tr>\n",
              "    <tr>\n",
              "      <th>3</th>\n",
              "      <td>11.2</td>\n",
              "      <td>0.28</td>\n",
              "      <td>0.56</td>\n",
              "      <td>1.9</td>\n",
              "      <td>0.075</td>\n",
              "      <td>17.0</td>\n",
              "      <td>60.0</td>\n",
              "      <td>0.9980</td>\n",
              "      <td>3.16</td>\n",
              "      <td>0.58</td>\n",
              "      <td>9.8</td>\n",
              "      <td>6</td>\n",
              "    </tr>\n",
              "    <tr>\n",
              "      <th>4</th>\n",
              "      <td>7.4</td>\n",
              "      <td>0.70</td>\n",
              "      <td>0.00</td>\n",
              "      <td>1.9</td>\n",
              "      <td>0.076</td>\n",
              "      <td>11.0</td>\n",
              "      <td>34.0</td>\n",
              "      <td>0.9978</td>\n",
              "      <td>3.51</td>\n",
              "      <td>0.56</td>\n",
              "      <td>9.4</td>\n",
              "      <td>5</td>\n",
              "    </tr>\n",
              "  </tbody>\n",
              "</table>\n",
              "</div>\n",
              "      <button class=\"colab-df-convert\" onclick=\"convertToInteractive('df-9d6754c7-2c92-49f8-b132-73dff523b279')\"\n",
              "              title=\"Convert this dataframe to an interactive table.\"\n",
              "              style=\"display:none;\">\n",
              "        \n",
              "  <svg xmlns=\"http://www.w3.org/2000/svg\" height=\"24px\"viewBox=\"0 0 24 24\"\n",
              "       width=\"24px\">\n",
              "    <path d=\"M0 0h24v24H0V0z\" fill=\"none\"/>\n",
              "    <path d=\"M18.56 5.44l.94 2.06.94-2.06 2.06-.94-2.06-.94-.94-2.06-.94 2.06-2.06.94zm-11 1L8.5 8.5l.94-2.06 2.06-.94-2.06-.94L8.5 2.5l-.94 2.06-2.06.94zm10 10l.94 2.06.94-2.06 2.06-.94-2.06-.94-.94-2.06-.94 2.06-2.06.94z\"/><path d=\"M17.41 7.96l-1.37-1.37c-.4-.4-.92-.59-1.43-.59-.52 0-1.04.2-1.43.59L10.3 9.45l-7.72 7.72c-.78.78-.78 2.05 0 2.83L4 21.41c.39.39.9.59 1.41.59.51 0 1.02-.2 1.41-.59l7.78-7.78 2.81-2.81c.8-.78.8-2.07 0-2.86zM5.41 20L4 18.59l7.72-7.72 1.47 1.35L5.41 20z\"/>\n",
              "  </svg>\n",
              "      </button>\n",
              "      \n",
              "  <style>\n",
              "    .colab-df-container {\n",
              "      display:flex;\n",
              "      flex-wrap:wrap;\n",
              "      gap: 12px;\n",
              "    }\n",
              "\n",
              "    .colab-df-convert {\n",
              "      background-color: #E8F0FE;\n",
              "      border: none;\n",
              "      border-radius: 50%;\n",
              "      cursor: pointer;\n",
              "      display: none;\n",
              "      fill: #1967D2;\n",
              "      height: 32px;\n",
              "      padding: 0 0 0 0;\n",
              "      width: 32px;\n",
              "    }\n",
              "\n",
              "    .colab-df-convert:hover {\n",
              "      background-color: #E2EBFA;\n",
              "      box-shadow: 0px 1px 2px rgba(60, 64, 67, 0.3), 0px 1px 3px 1px rgba(60, 64, 67, 0.15);\n",
              "      fill: #174EA6;\n",
              "    }\n",
              "\n",
              "    [theme=dark] .colab-df-convert {\n",
              "      background-color: #3B4455;\n",
              "      fill: #D2E3FC;\n",
              "    }\n",
              "\n",
              "    [theme=dark] .colab-df-convert:hover {\n",
              "      background-color: #434B5C;\n",
              "      box-shadow: 0px 1px 3px 1px rgba(0, 0, 0, 0.15);\n",
              "      filter: drop-shadow(0px 1px 2px rgba(0, 0, 0, 0.3));\n",
              "      fill: #FFFFFF;\n",
              "    }\n",
              "  </style>\n",
              "\n",
              "      <script>\n",
              "        const buttonEl =\n",
              "          document.querySelector('#df-9d6754c7-2c92-49f8-b132-73dff523b279 button.colab-df-convert');\n",
              "        buttonEl.style.display =\n",
              "          google.colab.kernel.accessAllowed ? 'block' : 'none';\n",
              "\n",
              "        async function convertToInteractive(key) {\n",
              "          const element = document.querySelector('#df-9d6754c7-2c92-49f8-b132-73dff523b279');\n",
              "          const dataTable =\n",
              "            await google.colab.kernel.invokeFunction('convertToInteractive',\n",
              "                                                     [key], {});\n",
              "          if (!dataTable) return;\n",
              "\n",
              "          const docLinkHtml = 'Like what you see? Visit the ' +\n",
              "            '<a target=\"_blank\" href=https://colab.research.google.com/notebooks/data_table.ipynb>data table notebook</a>'\n",
              "            + ' to learn more about interactive tables.';\n",
              "          element.innerHTML = '';\n",
              "          dataTable['output_type'] = 'display_data';\n",
              "          await google.colab.output.renderOutput(dataTable, element);\n",
              "          const docLink = document.createElement('div');\n",
              "          docLink.innerHTML = docLinkHtml;\n",
              "          element.appendChild(docLink);\n",
              "        }\n",
              "      </script>\n",
              "    </div>\n",
              "  </div>\n",
              "  "
            ],
            "text/plain": [
              "     FA    VA    CA   RS  chlorides  ...  density    pH  sulphates  alcohol  quality\n",
              "0   7.4  0.70  0.00  1.9      0.076  ...   0.9978  3.51       0.56      9.4        5\n",
              "1   7.8  0.88  0.00  2.6      0.098  ...   0.9968  3.20       0.68      9.8        5\n",
              "2   7.8  0.76  0.04  2.3      0.092  ...   0.9970  3.26       0.65      9.8        5\n",
              "3  11.2  0.28  0.56  1.9      0.075  ...   0.9980  3.16       0.58      9.8        6\n",
              "4   7.4  0.70  0.00  1.9      0.076  ...   0.9978  3.51       0.56      9.4        5\n",
              "\n",
              "[5 rows x 12 columns]"
            ]
          },
          "metadata": {},
          "execution_count": 7
        }
      ]
    },
    {
      "cell_type": "markdown",
      "source": [
        "Histogram showing the pH levels of the wine."
      ],
      "metadata": {
        "id": "ogVM7tIaR08U"
      }
    },
    {
      "cell_type": "code",
      "source": [
        "#Using pandas's plot.hist() to plot the histogram\n",
        "wine_quality['pH'].plot.hist()"
      ],
      "metadata": {
        "colab": {
          "base_uri": "https://localhost:8080/",
          "height": 282
        },
        "id": "_xb_K8K_SSax",
        "outputId": "16edd732-0d57-4f8f-e532-285f76564b65"
      },
      "execution_count": null,
      "outputs": [
        {
          "output_type": "execute_result",
          "data": {
            "text/plain": [
              "<matplotlib.axes._subplots.AxesSubplot at 0x7f69e35867d0>"
            ]
          },
          "metadata": {},
          "execution_count": 8
        },
        {
          "output_type": "display_data",
          "data": {
            "image/png": "[encoded data removed]",
            "text/plain": [
              "<Figure size 432x288 with 1 Axes>"
            ]
          },
          "metadata": {
            "needs_background": "light"
          }
        }
      ]
    },
    {
      "cell_type": "markdown",
      "source": [
        "#Scatter plot showing the volatile acidity and residual sugar."
      ],
      "metadata": {
        "id": "y8KdZAwzT2d4"
      }
    },
    {
      "cell_type": "code",
      "source": [
        "#Using plotly to plot the scatter plot\n",
        "fig = px.scatter(wine_quality,x = 'VA',y = 'RS')\n",
        "fig.show()"
      ],
      "metadata": {
        "colab": {
          "base_uri": "https://localhost:8080/",
          "height": 542
        },
        "id": "GjaNzSHzUHpp",
        "outputId": "1b22496c-fadd-4c23-98b5-a33b37e29e6d"
      },
      "execution_count": null,
      "outputs": [
        {
          "output_type": "display_data",
          "data": {
            "text/html": [
              "<html>\n",
              "<head><meta charset=\"utf-8\" /></head>\n",
              "<body>\n",
              "    <div>            <script src=\"https://cdnjs.cloudflare.com/ajax/libs/mathjax/2.7.5/MathJax.js?config=TeX-AMS-MML_SVG\"></script><script type=\"text/javascript\">if (window.MathJax) {MathJax.Hub.Config({SVG: {font: \"STIX-Web\"}});}</script>                <script type=\"text/javascript\">window.PlotlyConfig = {MathJaxConfig: 'local'};</script>\n",
              "        <script src=\"https://cdn.plot.ly/plotly-2.8.3.min.js\"></script>                <div id=\"7cc65ae0-0e39-4f4c-a71e-6b2c85cfdc61\" class=\"plotly-graph-div\" style=\"height:525px; width:100%;\"></div>            <script type=\"text/javascript\">                                    window.PLOTLYENV=window.PLOTLYENV || {};                                    if (document.getElementById(\"7cc65ae0-0e39-4f4c-a71e-6b2c85cfdc61\")) {                    Plotly.newPlot(                        \"7cc65ae0-0e39-4f4c-a71e-6b2c85cfdc61\",                        [{\"hovertemplate\":\"VA=%{x}<br>RS=%{y}<extra></extra>\",\"legendgroup\":\"\",\"marker\":{\"color\":\"#636efa\",\"symbol\":\"circle\"},\"mode\":\"markers\",\"name\":\"\",\"showlegend\":false,\"x\":[0.7,0.88,0.76,0.28,0.7,0.66,0.6,0.65,0.58,0.5,0.58,0.5,0.615,0.61,0.62,0.62,0.28,0.56,0.59,0.32,0.22,0.39,0.43,0.49,0.4,0.39,0.41,0.43,0.71,0.645,0.675,0.685,0.655,0.605,0.32,0.645,0.6,0.38,1.13,0.45,0.45,0.61,0.49,0.66,0.67,0.52,0.935,0.29,0.4,0.31,0.66,0.52,0.5,0.38,0.51,0.62,0.42,0.63,0.59,0.39,0.4,0.69,0.52,0.735,0.725,0.725,0.52,0.705,0.32,0.705,0.63,0.67,0.69,0.675,0.32,0.41,0.41,0.785,0.75,0.625,0.45,0.43,0.5,0.67,0.3,0.55,0.49,0.49,0.39,0.62,0.52,0.49,0.49,0.49,1.02,0.6,0.775,0.5,0.9,0.545,0.61,0.5,0.545,0.575,0.49,0.575,0.41,0.63,0.33,0.785,0.56,0.62,0.6,0.31,0.56,0.4,0.54,0.56,0.55,0.69,1.07,0.55,0.695,0.71,0.5,0.62,1.33,1.33,0.59,0.38,0.745,0.5,0.5,0.5,1.04,0.745,0.715,0.415,0.56,0.56,0.745,0.715,0.34,0.39,0.34,0.67,0.68,0.49,0.49,0.4,0.33,0.52,0.6,0.6,0.43,0.43,0.43,0.43,0.68,0.6,0.95,0.68,0.53,0.6,0.59,0.63,0.64,0.55,0.63,0.705,0.885,0.42,0.42,0.62,0.38,0.5,0.38,0.52,0.805,0.61,0.61,0.61,0.73,0.61,0.62,0.31,0.39,0.705,0.5,0.49,0.5,0.37,0.63,0.55,0.55,0.59,0.58,0.3,0.835,1.09,0.32,0.37,0.5,0.42,0.43,0.3,0.3,0.57,0.44,0.3,0.53,0.725,0.44,0.57,0.735,0.49,0.625,0.725,0.49,0.53,0.34,0.53,0.61,0.645,0.635,0.43,0.59,0.82,0.43,0.52,0.48,0.38,0.37,0.52,1.0,0.63,0.63,0.645,0.63,1.0,0.635,0.38,0.58,0.21,0.21,0.66,0.68,0.6,0.53,0.66,0.32,0.6,0.35,0.775,0.6,0.57,0.34,0.695,0.41,0.31,0.33,0.975,0.52,0.37,0.56,0.26,0.87,0.35,0.54,0.18,0.545,0.18,0.37,0.715,0.65,0.545,0.54,0.18,0.32,0.4,0.26,0.27,0.52,0.4,0.59,0.59,0.45,0.4,0.52,0.42,0.52,0.2,0.55,0.36,0.34,0.5,0.83,0.63,0.65,0.67,0.53,0.18,0.705,0.67,0.65,0.53,0.62,0.41,0.43,0.29,0.53,0.53,0.46,0.47,0.36,0.35,0.56,0.77,0.66,0.77,0.66,0.61,0.62,0.59,0.49,0.49,0.53,0.44,0.27,0.46,0.36,0.36,0.58,0.56,0.65,0.695,0.43,0.43,0.49,0.28,0.34,0.42,0.39,0.39,0.57,0.685,0.815,0.49,0.56,0.785,0.67,0.795,0.665,0.53,0.21,0.75,0.41,0.42,0.43,0.38,0.7,0.45,0.58,0.46,0.615,0.42,0.615,0.575,0.34,0.27,0.765,0.24,0.28,0.55,0.41,0.54,0.45,0.27,0.625,0.42,0.26,0.415,0.26,0.26,0.51,0.63,0.54,0.66,0.46,0.38,0.85,0.415,0.37,0.665,0.6,0.37,0.735,0.59,0.59,0.765,0.735,0.26,0.48,0.6,0.69,0.31,0.44,0.39,0.34,0.46,0.43,0.45,0.735,0.4,0.52,0.725,0.48,0.58,0.38,0.77,0.56,0.84,0.96,0.24,0.96,0.84,0.67,0.78,0.52,0.84,0.24,0.55,0.37,0.39,0.41,0.39,0.67,0.45,0.41,0.62,0.31,0.4,0.685,0.44,0.57,0.735,0.38,0.48,0.53,0.39,0.39,0.37,0.56,0.33,0.23,0.62,0.59,0.63,0.33,0.58,0.43,0.615,0.26,0.66,0.315,0.29,0.5,0.46,0.36,0.82,0.32,0.54,0.37,0.35,0.28,0.68,0.27,0.24,0.68,0.685,0.28,0.3,0.36,0.36,0.44,0.67,0.67,0.645,0.32,0.39,0.775,0.41,0.4,0.69,0.39,0.35,0.52,0.34,0.35,0.69,0.52,0.44,0.44,0.26,0.24,0.49,0.24,0.67,0.59,0.29,0.42,0.59,0.4,0.51,0.51,0.655,0.6,0.61,0.21,0.365,0.25,0.41,0.39,0.4,0.43,0.64,0.365,0.38,0.42,0.63,0.22,0.38,0.38,0.27,0.48,0.22,0.63,0.825,0.35,0.5,0.59,0.46,0.715,0.66,0.31,0.47,0.55,0.31,0.35,0.53,0.51,0.43,0.46,1.04,0.645,0.645,0.53,0.645,0.53,0.47,0.6,0.44,0.54,0.29,0.47,0.6,0.7,0.7,0.5,0.36,0.35,0.36,0.24,0.59,0.34,0.27,0.5,0.44,0.47,0.31,0.5,0.5,0.49,0.28,0.33,0.51,0.31,0.73,0.42,0.29,0.45,0.39,0.45,0.49,0.72,0.595,0.4,0.58,0.585,0.59,0.915,0.46,0.835,0.46,0.58,0.6,0.41,0.48,0.65,0.36,0.24,0.38,0.64,0.39,0.755,0.6,0.6,0.31,0.46,0.37,0.54,0.56,0.58,0.51,0.69,0.69,0.6,0.6,0.54,0.685,0.54,0.28,0.41,0.935,0.35,0.84,0.88,0.885,0.915,0.29,0.54,0.59,0.54,0.59,0.54,0.64,0.67,0.845,0.48,0.42,0.43,0.88,0.36,0.33,0.47,0.55,0.43,0.5,0.52,0.84,0.52,0.42,0.57,0.28,0.4,0.59,0.49,0.34,0.73,0.34,0.4,0.73,1.24,0.73,0.4,0.41,0.4,0.8,0.78,0.26,0.43,0.45,0.46,0.78,0.98,0.78,0.65,0.64,0.66,0.38,1.185,0.92,0.49,0.48,0.47,0.47,0.65,0.65,0.615,0.38,1.02,0.65,0.64,0.38,0.765,1.035,0.78,0.49,0.545,0.31,1.025,0.565,0.69,0.43,0.74,0.49,0.43,0.46,0.56,0.66,0.56,0.48,0.42,0.31,1.115,0.66,0.72,0.57,0.57,0.865,0.55,0.875,0.835,0.45,0.56,0.965,0.965,0.59,0.46,0.69,0.76,0.53,0.615,0.41,0.39,0.51,0.34,0.33,0.5,0.51,0.65,0.65,0.54,0.65,0.48,0.91,0.98,0.87,0.87,0.42,0.58,0.655,0.7,0.655,0.68,0.67,0.59,0.6,0.59,0.72,0.59,0.685,0.57,0.4,0.4,1.0,0.765,0.635,0.43,0.52,0.57,0.46,0.82,0.46,0.59,0.35,0.35,0.56,0.56,0.63,0.37,0.64,0.61,0.6,0.27,0.89,0.46,0.37,0.5,0.5,0.61,0.55,0.585,0.56,0.52,0.28,0.25,0.28,0.53,0.48,0.49,0.5,0.45,0.39,0.41,0.45,0.51,0.29,0.715,0.66,0.685,0.42,0.54,0.54,0.48,0.46,0.27,0.46,0.57,0.61,0.685,0.61,0.44,0.47,0.685,0.665,0.28,0.28,0.31,0.5,0.42,0.66,0.5,0.685,0.25,0.64,0.64,0.68,0.64,0.63,0.43,0.43,0.42,0.36,0.36,0.735,0.36,0.26,0.28,0.56,0.62,1.01,0.42,0.62,0.62,0.635,0.49,0.51,0.56,0.63,0.715,0.56,0.35,0.21,0.38,0.31,0.47,0.715,0.61,0.6,0.56,0.715,0.31,0.6,0.61,0.75,0.8,0.52,0.57,0.9,0.34,0.66,0.45,0.66,0.63,0.59,0.31,0.59,0.31,1.02,0.31,0.635,0.635,0.59,0.59,0.58,0.54,0.56,0.52,0.305,0.38,0.28,0.46,0.395,0.305,0.315,0.715,0.41,0.36,0.62,0.41,0.36,0.62,0.41,0.47,0.22,0.24,0.67,0.47,0.33,0.61,0.61,0.4,0.61,0.61,0.3,0.3,0.63,0.38,0.46,0.33,0.27,0.43,0.5,0.3,0.44,0.44,0.28,0.12,0.12,0.12,0.28,0.31,0.34,0.43,0.21,0.36,0.37,0.57,0.59,0.47,0.56,0.57,0.27,0.47,0.34,0.38,0.66,0.4,0.56,0.26,0.26,0.38,0.34,0.33,0.41,0.41,0.59,0.4,0.45,0.5,0.86,0.52,0.5,0.45,0.58,0.34,0.36,0.39,0.295,0.39,0.34,0.4,0.34,0.35,0.6,0.66,0.66,0.84,0.69,0.43,0.35,0.29,0.36,0.43,0.36,0.29,0.3,0.35,0.5,0.28,0.32,1.005,0.71,0.58,0.39,0.38,0.18,0.18,0.5,0.36,0.36,0.51,0.32,0.58,0.83,0.31,0.795,0.34,0.58,0.59,0.55,0.82,0.57,0.745,0.37,0.31,0.91,0.41,0.5,0.965,0.49,0.5,0.39,0.39,0.44,0.78,0.43,0.49,0.5,0.43,0.46,0.605,0.33,0.64,0.64,0.48,0.42,0.53,0.48,0.23,0.4,0.38,0.29,0.74,0.61,0.52,0.31,0.31,0.62,0.33,0.77,0.35,0.62,0.77,0.25,0.32,0.37,0.37,0.3,0.27,0.3,0.38,0.42,0.38,0.48,0.34,0.19,0.41,0.41,0.26,0.34,0.54,0.31,0.725,0.4,0.725,0.52,0.31,0.52,0.34,0.49,0.48,0.49,0.48,0.57,0.23,0.3,0.78,0.47,0.53,0.42,0.33,0.24,0.4,0.69,0.69,0.69,0.39,0.66,0.54,0.5,0.47,0.4,0.58,0.24,0.29,0.76,0.43,0.43,0.6,0.19,0.36,0.48,0.28,0.25,0.52,0.52,0.41,0.51,0.4,0.38,0.45,0.22,0.32,0.2,0.5,0.41,0.39,0.35,0.33,0.58,0.6,0.42,0.58,0.6,0.18,0.51,0.41,0.41,0.36,0.45,0.32,0.785,0.785,0.44,0.54,0.33,0.34,0.5,0.36,0.59,0.42,0.36,0.36,0.61,0.88,0.66,0.915,0.35,0.35,0.39,0.4,0.66,0.64,0.43,0.8,0.43,0.64,0.955,0.4,0.885,0.25,0.885,0.745,0.43,0.58,0.57,0.26,0.58,0.57,0.34,0.42,0.74,0.36,0.36,0.36,0.72,0.36,0.39,0.65,0.44,0.65,0.38,0.33,0.27,0.57,0.34,0.4,0.39,0.32,0.32,0.53,0.36,0.39,0.46,0.58,0.58,0.42,0.43,0.18,0.815,0.43,0.23,0.75,0.33,0.55,0.75,0.73,0.67,0.61,0.37,0.4,0.56,0.29,0.55,0.74,0.55,0.41,0.6,0.6,0.58,0.72,0.66,0.7,0.64,0.59,0.58,0.64,0.64,0.635,1.02,0.45,0.78,0.37,0.57,0.57,0.43,0.41,0.49,0.38,0.44,0.46,0.58,0.58,0.715,0.4,0.69,0.715,0.3,0.46,0.46,0.765,0.63,0.42,0.37,0.16,0.6,0.6,0.6,0.74,0.635,0.395,0.755,0.635,0.63,0.63,0.53,0.6,1.58,0.645,0.86,0.37,0.28,0.79,0.61,0.69,0.68,0.69,0.62,0.61,0.51,1.18,0.36,0.36,0.63,0.74,0.44,0.63,0.76,0.66,0.74,0.34,0.36,0.46,0.46,0.46,0.46,0.52,0.6,0.6,0.87,0.39,0.775,0.835,0.58,0.5,0.5,0.5,0.51,0.51,0.51,0.54,0.51,0.42,0.44,0.59,0.655,0.655,0.57,0.6,0.62,0.645,0.645,0.58,0.32,0.34,0.43,0.64,0.475,0.54,0.85,0.475,0.83,0.605,0.5,0.74,0.54,0.77,0.61,0.78,0.58,0.78,0.75,0.815,0.56,0.885,0.49,0.45,0.57,0.57,0.83,0.6,0.6,0.755,0.81,0.64,0.64,0.64,0.48,0.49,0.64,0.62,0.52,0.57,0.685,0.675,0.59,0.6,0.67,0.69,0.69,0.3,0.33,0.5,0.28,0.24,0.51,0.29,0.51,0.96,0.47,0.24,0.57,0.32,0.58,0.32,0.34,0.53,0.64,0.53,0.4,0.54,0.53,0.26,0.26,0.23,0.41,0.64,0.18,0.41,0.43,0.44,0.4,0.54,0.54,0.38,0.915,0.59,0.67,0.37,0.785,0.63,0.58,0.67,0.785,0.63,0.67,0.58,0.38,0.37,0.32,0.58,0.49,0.45,0.9,0.54,0.49,0.29,0.2,0.42,0.785,0.64,0.63,0.59,0.59,0.48,1.04,0.48,0.98,0.69,0.7,0.35,0.6,0.5,0.47,0.5,0.47,0.875,0.28,0.62,0.28,0.58,0.33,0.91,0.655,0.68,0.64,0.54,0.57,0.22,0.54,0.65,0.54,0.31,0.43,0.54,0.74,0.895,0.74,0.725,0.82,0.585,0.44,0.38,0.76,0.81,0.38,0.27,0.18,0.36,0.69,0.79,0.56,0.84,0.84,0.32,0.53,0.47,0.7,0.53,0.48,0.32,0.48,0.42,0.48,0.47,0.53,0.29,0.69,0.44,0.705,0.53,0.39,0.56,0.55,0.53,0.58,0.64,0.39,0.52,0.25,0.855,0.44,0.37,0.63,0.57,0.6,0.4,0.36,0.68,0.67,0.68,0.735,0.855,0.56,0.88,0.855,0.63,0.6,0.6,0.6,0.695,0.695,0.695,0.67,0.16,0.695,0.56,0.51,0.36,0.38,0.69,0.58,0.31,0.52,0.3,0.7,0.67,0.56,0.35,0.56,0.715,0.46,0.32,0.39,0.31,0.61,0.66,0.725,0.55,0.74,0.51,0.62,0.6,0.55,0.51,0.645,0.31],\"xaxis\":\"x\",\"y\":[1.9,2.6,2.3,1.9,1.9,1.8,1.6,1.2,2.0,6.1,1.8,6.1,1.6,1.6,3.8,3.9,1.8,1.7,4.4,1.8,1.8,2.3,1.6,2.3,2.4,1.4,1.8,1.6,1.9,2.0,2.4,2.5,2.3,10.7,1.8,5.5,2.4,2.1,1.5,5.9,5.9,2.8,2.6,2.2,1.8,2.1,2.2,1.6,1.6,1.4,1.7,2.2,2.1,3.0,2.8,3.8,3.4,5.1,2.3,2.4,2.2,1.8,1.9,2.0,4.65,4.65,1.5,1.6,2.0,1.9,1.9,2.1,1.9,2.1,2.5,2.2,2.2,2.4,2.0,1.5,1.6,1.9,2.0,1.8,1.8,2.2,1.9,1.9,2.1,1.8,1.9,1.9,2.0,1.9,1.4,2.3,3.0,2.0,2.5,1.9,2.1,1.9,1.9,2.1,2.2,2.1,1.7,1.7,2.5,2.0,1.8,2.2,2.2,2.3,1.8,2.2,1.9,2.0,2.2,1.8,1.7,2.2,2.5,2.6,1.6,1.9,1.7,1.8,1.8,1.8,2.0,2.3,2.3,1.5,2.2,1.9,1.8,2.0,2.1,2.0,1.9,1.8,1.8,1.7,1.8,1.8,1.8,1.6,2.3,2.8,2.1,3.4,1.8,1.8,5.5,5.5,5.5,5.5,2.2,1.9,2.0,1.3,1.7,7.3,7.2,1.7,2.1,1.6,2.1,1.8,1.8,2.0,2.0,1.9,2.0,1.5,2.0,2.3,2.5,2.4,2.4,2.0,2.5,1.8,1.9,2.0,2.0,2.6,2.0,1.9,2.9,1.9,3.8,2.2,2.2,2.0,2.4,2.0,1.2,2.1,1.4,2.1,1.5,1.6,1.6,2.6,2.6,1.8,2.7,2.1,2.0,2.8,2.1,2.2,2.4,5.6,2.0,2.2,1.9,2.4,2.0,2.0,1.5,2.0,2.0,2.6,2.0,2.6,2.6,2.6,1.6,1.8,2.8,2.6,2.3,1.9,1.9,1.9,1.9,2.3,1.7,2.1,1.8,2.2,2.2,2.0,1.9,2.3,1.7,2.0,1.6,1.8,3.1,1.9,1.8,3.2,2.2,2.1,1.8,2.6,1.7,2.0,1.7,1.8,2.4,1.8,3.3,3.6,3.0,4.0,4.0,4.0,4.0,2.4,7.0,4.0,3.0,4.0,6.4,5.6,3.6,3.5,3.0,5.6,3.4,3.4,2.0,3.0,2.5,3.3,2.5,2.0,2.7,2.4,3.2,2.5,2.6,2.0,2.3,2.1,2.6,1.5,2.6,1.6,2.1,2.5,2.2,2.4,2.4,1.7,2.5,2.0,2.8,3.0,2.6,2.5,3.4,2.9,3.2,2.9,3.2,3.4,2.3,2.8,11.0,11.0,3.65,4.5,2.6,2.0,2.9,2.9,3.2,2.1,2.5,3.4,1.9,2.8,3.0,2.3,2.4,2.7,1.8,1.8,2.6,1.9,2.7,3.0,2.8,2.6,2.7,2.6,2.4,4.8,1.4,2.4,3.0,2.95,3.1,2.6,2.0,2.6,2.5,2.0,5.8,3.4,5.8,2.6,2.8,2.4,2.3,1.6,1.8,2.2,3.8,4.4,3.0,2.4,6.2,2.5,2.0,2.9,2.0,2.0,2.1,2.4,2.0,1.9,1.9,2.5,1.4,2.9,2.0,2.0,2.3,4.2,7.9,2.6,2.6,2.3,7.9,1.7,2.6,2.7,2.7,1.4,2.5,3.0,3.7,4.5,2.5,2.4,1.9,6.7,2.7,6.6,2.2,1.9,2.0,1.8,2.4,2.3,2.0,2.1,2.0,2.3,2.1,1.9,1.3,2.4,2.1,2.2,2.3,2.3,3.2,2.3,2.0,3.2,3.2,1.5,2.2,2.15,3.7,2.7,1.7,2.1,2.6,2.1,2.0,2.8,2.8,1.8,1.7,2.8,1.6,5.2,2.3,2.7,2.8,2.2,2.3,2.6,2.55,2.2,2.1,2.9,2.0,2.6,2.1,1.2,2.6,2.4,2.6,2.1,1.7,2.2,2.0,1.8,2.2,2.7,15.5,2.8,2.2,2.2,4.1,1.9,1.9,1.8,2.8,2.6,2.8,2.5,2.6,3.0,8.3,2.6,1.9,2.5,2.6,3.0,1.9,6.55,6.55,1.9,1.8,2.9,1.8,2.3,2.2,2.8,4.6,2.2,2.1,2.4,2.4,6.1,4.3,2.1,2.8,2.5,2.7,2.0,2.3,2.5,2.4,2.8,2.5,2.5,2.6,2.4,2.1,2.7,2.7,2.1,2.7,2.1,2.4,2.1,5.8,5.15,3.3,6.3,2.1,2.5,1.8,2.6,2.0,2.5,2.6,1.9,2.1,2.8,2.7,1.6,4.2,4.2,4.6,4.2,4.6,4.3,2.8,2.4,2.9,2.7,4.3,2.8,2.5,2.5,2.6,2.2,3.3,2.2,2.4,2.1,3.2,3.1,2.3,2.8,2.9,2.2,2.2,2.2,2.2,1.9,3.4,2.4,2.7,1.9,2.0,2.6,2.6,1.7,2.6,3.5,2.6,7.9,2.0,1.9,2.1,2.3,2.1,2.2,2.6,2.2,2.9,2.6,4.6,3.3,5.1,3.2,2.5,2.7,2.4,1.5,2.2,2.3,2.3,2.2,2.7,2.3,3.4,3.4,1.9,2.9,5.6,5.6,2.2,2.2,2.5,2.3,2.5,2.7,3.0,3.4,1.9,1.4,2.4,2.3,2.2,1.9,2.3,2.3,2.3,2.3,2.3,6.0,3.6,2.2,2.8,8.6,2.2,2.5,7.5,2.8,2.4,2.9,2.2,1.4,1.4,4.4,1.4,1.6,1.6,1.8,2.0,2.0,1.8,2.0,2.3,2.0,2.5,1.7,2.0,1.7,2.2,2.2,2.2,2.3,2.6,3.3,1.9,2.2,2.25,2.6,2.3,2.6,1.8,3.1,1.6,1.8,4.25,2.6,2.0,2.8,2.7,1.3,2.1,2.1,3.2,2.1,2.9,2.1,2.1,2.6,1.6,6.0,2.0,3.0,2.5,1.6,2.8,3.0,3.2,2.3,2.6,2.7,2.3,2.6,2.0,3.9,2.0,2.85,2.7,2.2,3.1,3.0,2.8,1.8,1.8,3.2,2.3,3.45,2.1,2.7,2.0,2.1,2.1,2.5,2.8,2.4,4.2,2.6,1.9,2.8,2.7,2.1,2.5,2.6,2.1,2.1,2.9,2.9,2.5,2.9,1.7,1.9,2.0,2.2,2.2,2.5,2.8,2.0,1.7,2.0,2.8,3.0,2.9,2.7,2.3,1.9,2.3,2.4,2.3,1.8,1.8,3.0,2.4,2.4,3.4,2.6,2.0,2.4,2.4,2.4,2.5,2.3,2.3,2.2,2.2,2.9,2.6,2.9,2.5,2.6,2.3,2.6,2.5,1.6,3.6,3.6,4.0,3.3,1.7,2.5,2.7,2.4,2.0,2.4,1.9,2.8,2.6,2.8,2.5,2.1,2.8,2.5,3.2,1.6,2.35,3.2,1.9,2.1,2.0,2.0,2.8,2.8,2.3,2.8,2.3,2.1,2.5,2.1,1.5,1.6,1.6,1.5,2.4,2.4,1.6,2.2,2.65,3.0,2.6,2.0,1.7,1.8,1.8,1.8,1.8,1.6,1.9,1.9,2.5,1.5,1.5,2.5,1.5,2.5,1.7,1.8,2.7,2.0,2.7,2.5,2.7,2.6,2.3,2.0,1.8,2.0,2.1,1.5,2.0,1.6,2.1,2.8,2.2,2.1,4.0,2.5,1.6,2.1,3.1,2.5,4.0,2.5,2.4,2.6,2.5,6.6,2.0,2.3,1.9,2.3,2.2,2.3,2.4,2.3,2.4,3.4,2.6,2.4,2.4,6.0,6.0,3.0,2.6,2.2,2.4,1.2,3.8,9.0,2.9,4.6,1.2,2.2,1.5,8.8,2.2,1.8,2.3,2.2,1.8,8.8,2.3,1.9,2.3,2.2,2.3,3.3,1.9,2.0,1.9,2.0,1.9,2.3,2.3,1.4,2.8,1.6,2.2,5.0,2.6,2.3,3.8,2.0,4.1,2.1,1.8,1.8,1.8,2.1,2.2,2.1,2.7,1.9,2.1,2.0,2.3,2.0,1.9,1.6,2.1,2.0,1.9,2.4,2.4,2.1,2.4,2.9,1.9,1.9,2.4,1.7,5.9,2.1,2.1,2.6,3.6,1.4,1.9,1.9,2.1,1.9,1.4,2.0,1.4,1.6,1.7,1.5,1.7,2.0,2.0,2.0,2.5,2.0,2.2,2.2,1.4,1.65,2.2,1.5,2.05,1.8,1.6,1.8,2.05,2.0,3.6,2.8,1.7,2.0,2.1,1.6,2.0,2.2,2.2,0.9,0.9,1.8,2.4,2.4,2.1,2.3,1.8,2.8,1.9,2.2,2.5,1.8,2.1,1.8,4.1,2.6,2.5,2.4,2.5,1.8,6.2,2.2,2.2,1.7,2.2,8.9,3.3,1.4,1.7,1.8,1.7,1.8,1.8,1.4,2.4,2.3,2.0,2.0,4.0,3.9,2.4,4.0,1.8,1.8,1.9,2.4,2.0,2.4,2.4,2.2,2.2,2.8,1.5,8.1,1.8,2.7,8.1,2.0,2.0,6.4,6.4,8.3,1.4,8.3,1.8,2.4,1.8,1.8,4.7,1.6,1.5,1.5,1.9,2.0,2.0,2.2,5.5,2.5,5.5,1.5,2.1,1.5,2.1,2.1,1.7,2.1,2.2,2.1,1.9,2.0,3.3,2.1,1.4,2.0,1.5,1.6,4.3,2.5,2.5,2.5,2.1,2.5,2.5,1.8,1.4,1.9,2.2,1.7,1.7,2.9,2.7,3.3,1.9,1.7,1.8,5.5,1.7,1.7,2.0,2.0,3.7,2.0,1.7,2.5,2.4,1.8,2.3,2.5,1.8,6.2,2.0,2.0,2.8,2.5,2.2,2.1,2.2,2.2,1.75,2.1,2.8,2.2,2.3,1.4,2.3,1.7,1.7,1.9,2.0,2.5,2.8,2.3,1.6,2.2,2.1,1.7,1.7,2.2,5.6,2.4,2.1,2.4,2.4,1.65,2.5,1.6,2.1,2.0,7.8,2.0,2.1,1.8,4.6,2.3,2.5,2.3,1.8,1.8,2.3,1.5,2.0,2.3,1.5,1.9,1.8,5.8,2.1,2.1,2.1,1.7,2.1,2.0,2.1,2.1,2.1,1.9,1.9,2.1,2.0,1.9,1.9,1.3,1.8,1.8,2.2,2.2,2.5,2.6,4.1,2.0,1.8,2.1,2.7,2.6,2.1,2.2,2.2,12.9,1.7,2.2,2.5,4.3,1.7,2.5,2.0,2.4,13.4,1.8,1.7,1.8,2.2,2.3,2.3,2.2,1.8,1.4,1.9,2.4,1.8,4.8,2.7,2.7,1.8,2.0,2.5,2.2,1.8,2.3,2.3,2.3,2.0,1.8,1.6,1.6,1.9,2.0,2.1,2.3,6.3,1.9,2.3,1.7,1.9,1.9,2.0,2.7,2.3,1.8,2.5,2.6,4.5,4.5,1.9,2.1,2.4,1.9,2.1,4.3,4.3,2.1,1.4,2.1,2.15,2.0,2.1,1.8,2.3,1.9,2.5,3.9,2.5,1.4,1.9,3.0,1.9,2.3,2.4,2.0,1.2,2.2,2.0,1.7,2.6,1.2,1.8,1.8,1.7,1.7,1.7,1.7,1.8,2.1,2.1,3.8,1.7,2.2,2.0,2.4,1.4,1.4,1.4,1.7,1.7,1.7,1.7,1.7,2.6,2.3,2.1,1.8,1.8,2.8,2.0,2.3,1.9,1.9,2.3,1.8,1.8,2.5,5.4,1.4,2.3,2.5,1.4,2.0,1.9,2.2,1.7,2.2,2.1,1.6,1.7,3.1,1.7,3.8,1.2,2.0,1.4,2.3,2.0,2.6,2.6,1.8,2.1,2.1,1.8,3.4,1.8,1.8,6.1,2.2,2.3,2.4,1.3,2.0,3.9,1.6,1.6,2.0,2.2,2.2,2.1,2.1,2.0,1.7,2.6,2.0,5.1,2.1,2.2,2.1,1.8,2.4,5.1,2.0,2.2,1.6,2.2,2.5,1.6,2.2,1.6,1.6,2.1,3.9,1.4,1.4,1.8,2.5,1.9,2.2,1.8,2.1,1.6,1.8,15.4,15.4,1.6,4.8,1.7,2.2,2.0,5.2,1.9,1.75,2.2,5.2,1.9,1.9,1.9,2.0,2.0,2.7,2.0,1.9,2.2,1.6,1.8,1.9,1.7,1.7,2.3,2.1,2.3,2.4,1.7,1.7,2.1,2.3,2.1,2.1,1.4,3.75,2.6,1.8,13.8,2.2,13.8,2.2,5.7,3.0,1.5,3.0,2.1,1.5,2.0,2.1,2.1,1.9,1.7,2.1,1.8,1.7,1.6,1.9,1.4,1.9,1.9,2.3,2.3,2.3,1.5,4.3,2.4,2.5,2.3,1.8,2.0,2.3,2.1,1.8,2.2,2.1,2.2,1.8,4.1,4.1,2.3,2.0,2.2,2.6,2.0,1.9,2.3,2.0,2.0,2.1,2.2,1.7,2.2,2.1,2.2,2.8,2.0,1.9,2.4,2.2,1.9,1.9,2.5,1.8,4.4,2.2,1.9,2.2,2.3,1.8,2.0,1.6,2.0,1.8,2.3,2.3,3.7,2.2,2.4,1.7,2.2,2.4,6.7,2.0,2.0,2.0,2.0,2.0,2.0,1.9,2.1,2.0,1.6,1.9,2.2,2.2,2.2,2.4,13.9,2.2,1.6,5.1,1.8,1.7,2.4,1.7,2.6,2.1,2.4,2.6,2.4,1.8,2.5,7.8,1.8,1.7,2.3,1.9,2.0,2.2,2.3,2.0,3.6],\"yaxis\":\"y\",\"type\":\"scattergl\"}],                        {\"template\":{\"data\":{\"bar\":[{\"error_x\":{\"color\":\"#2a3f5f\"},\"error_y\":{\"color\":\"#2a3f5f\"},\"marker\":{\"line\":{\"color\":\"#E5ECF6\",\"width\":0.5},\"pattern\":{\"fillmode\":\"overlay\",\"size\":10,\"solidity\":0.2}},\"type\":\"bar\"}],\"barpolar\":[{\"marker\":{\"line\":{\"color\":\"#E5ECF6\",\"width\":0.5},\"pattern\":{\"fillmode\":\"overlay\",\"size\":10,\"solidity\":0.2}},\"type\":\"barpolar\"}],\"carpet\":[{\"aaxis\":{\"endlinecolor\":\"#2a3f5f\",\"gridcolor\":\"white\",\"linecolor\":\"white\",\"minorgridcolor\":\"white\",\"startlinecolor\":\"#2a3f5f\"},\"baxis\":{\"endlinecolor\":\"#2a3f5f\",\"gridcolor\":\"white\",\"linecolor\":\"white\",\"minorgridcolor\":\"white\",\"startlinecolor\":\"#2a3f5f\"},\"type\":\"carpet\"}],\"choropleth\":[{\"colorbar\":{\"outlinewidth\":0,\"ticks\":\"\"},\"type\":\"choropleth\"}],\"contour\":[{\"colorbar\":{\"outlinewidth\":0,\"ticks\":\"\"},\"colorscale\":[[0.0,\"#0d0887\"],[0.1111111111111111,\"#46039f\"],[0.2222222222222222,\"#7201a8\"],[0.3333333333333333,\"#9c179e\"],[0.4444444444444444,\"#bd3786\"],[0.5555555555555556,\"#d8576b\"],[0.6666666666666666,\"#ed7953\"],[0.7777777777777778,\"#fb9f3a\"],[0.8888888888888888,\"#fdca26\"],[1.0,\"#f0f921\"]],\"type\":\"contour\"}],\"contourcarpet\":[{\"colorbar\":{\"outlinewidth\":0,\"ticks\":\"\"},\"type\":\"contourcarpet\"}],\"heatmap\":[{\"colorbar\":{\"outlinewidth\":0,\"ticks\":\"\"},\"colorscale\":[[0.0,\"#0d0887\"],[0.1111111111111111,\"#46039f\"],[0.2222222222222222,\"#7201a8\"],[0.3333333333333333,\"#9c179e\"],[0.4444444444444444,\"#bd3786\"],[0.5555555555555556,\"#d8576b\"],[0.6666666666666666,\"#ed7953\"],[0.7777777777777778,\"#fb9f3a\"],[0.8888888888888888,\"#fdca26\"],[1.0,\"#f0f921\"]],\"type\":\"heatmap\"}],\"heatmapgl\":[{\"colorbar\":{\"outlinewidth\":0,\"ticks\":\"\"},\"colorscale\":[[0.0,\"#0d0887\"],[0.1111111111111111,\"#46039f\"],[0.2222222222222222,\"#7201a8\"],[0.3333333333333333,\"#9c179e\"],[0.4444444444444444,\"#bd3786\"],[0.5555555555555556,\"#d8576b\"],[0.6666666666666666,\"#ed7953\"],[0.7777777777777778,\"#fb9f3a\"],[0.8888888888888888,\"#fdca26\"],[1.0,\"#f0f921\"]],\"type\":\"heatmapgl\"}],\"histogram\":[{\"marker\":{\"pattern\":{\"fillmode\":\"overlay\",\"size\":10,\"solidity\":0.2}},\"type\":\"histogram\"}],\"histogram2d\":[{\"colorbar\":{\"outlinewidth\":0,\"ticks\":\"\"},\"colorscale\":[[0.0,\"#0d0887\"],[0.1111111111111111,\"#46039f\"],[0.2222222222222222,\"#7201a8\"],[0.3333333333333333,\"#9c179e\"],[0.4444444444444444,\"#bd3786\"],[0.5555555555555556,\"#d8576b\"],[0.6666666666666666,\"#ed7953\"],[0.7777777777777778,\"#fb9f3a\"],[0.8888888888888888,\"#fdca26\"],[1.0,\"#f0f921\"]],\"type\":\"histogram2d\"}],\"histogram2dcontour\":[{\"colorbar\":{\"outlinewidth\":0,\"ticks\":\"\"},\"colorscale\":[[0.0,\"#0d0887\"],[0.1111111111111111,\"#46039f\"],[0.2222222222222222,\"#7201a8\"],[0.3333333333333333,\"#9c179e\"],[0.4444444444444444,\"#bd3786\"],[0.5555555555555556,\"#d8576b\"],[0.6666666666666666,\"#ed7953\"],[0.7777777777777778,\"#fb9f3a\"],[0.8888888888888888,\"#fdca26\"],[1.0,\"#f0f921\"]],\"type\":\"histogram2dcontour\"}],\"mesh3d\":[{\"colorbar\":{\"outlinewidth\":0,\"ticks\":\"\"},\"type\":\"mesh3d\"}],\"parcoords\":[{\"line\":{\"colorbar\":{\"outlinewidth\":0,\"ticks\":\"\"}},\"type\":\"parcoords\"}],\"pie\":[{\"automargin\":true,\"type\":\"pie\"}],\"scatter\":[{\"marker\":{\"colorbar\":{\"outlinewidth\":0,\"ticks\":\"\"}},\"type\":\"scatter\"}],\"scatter3d\":[{\"line\":{\"colorbar\":{\"outlinewidth\":0,\"ticks\":\"\"}},\"marker\":{\"colorbar\":{\"outlinewidth\":0,\"ticks\":\"\"}},\"type\":\"scatter3d\"}],\"scattercarpet\":[{\"marker\":{\"colorbar\":{\"outlinewidth\":0,\"ticks\":\"\"}},\"type\":\"scattercarpet\"}],\"scattergeo\":[{\"marker\":{\"colorbar\":{\"outlinewidth\":0,\"ticks\":\"\"}},\"type\":\"scattergeo\"}],\"scattergl\":[{\"marker\":{\"colorbar\":{\"outlinewidth\":0,\"ticks\":\"\"}},\"type\":\"scattergl\"}],\"scattermapbox\":[{\"marker\":{\"colorbar\":{\"outlinewidth\":0,\"ticks\":\"\"}},\"type\":\"scattermapbox\"}],\"scatterpolar\":[{\"marker\":{\"colorbar\":{\"outlinewidth\":0,\"ticks\":\"\"}},\"type\":\"scatterpolar\"}],\"scatterpolargl\":[{\"marker\":{\"colorbar\":{\"outlinewidth\":0,\"ticks\":\"\"}},\"type\":\"scatterpolargl\"}],\"scatterternary\":[{\"marker\":{\"colorbar\":{\"outlinewidth\":0,\"ticks\":\"\"}},\"type\":\"scatterternary\"}],\"surface\":[{\"colorbar\":{\"outlinewidth\":0,\"ticks\":\"\"},\"colorscale\":[[0.0,\"#0d0887\"],[0.1111111111111111,\"#46039f\"],[0.2222222222222222,\"#7201a8\"],[0.3333333333333333,\"#9c179e\"],[0.4444444444444444,\"#bd3786\"],[0.5555555555555556,\"#d8576b\"],[0.6666666666666666,\"#ed7953\"],[0.7777777777777778,\"#fb9f3a\"],[0.8888888888888888,\"#fdca26\"],[1.0,\"#f0f921\"]],\"type\":\"surface\"}],\"table\":[{\"cells\":{\"fill\":{\"color\":\"#EBF0F8\"},\"line\":{\"color\":\"white\"}},\"header\":{\"fill\":{\"color\":\"#C8D4E3\"},\"line\":{\"color\":\"white\"}},\"type\":\"table\"}]},\"layout\":{\"annotationdefaults\":{\"arrowcolor\":\"#2a3f5f\",\"arrowhead\":0,\"arrowwidth\":1},\"autotypenumbers\":\"strict\",\"coloraxis\":{\"colorbar\":{\"outlinewidth\":0,\"ticks\":\"\"}},\"colorscale\":{\"diverging\":[[0,\"#8e0152\"],[0.1,\"#c51b7d\"],[0.2,\"#de77ae\"],[0.3,\"#f1b6da\"],[0.4,\"#fde0ef\"],[0.5,\"#f7f7f7\"],[0.6,\"#e6f5d0\"],[0.7,\"#b8e186\"],[0.8,\"#7fbc41\"],[0.9,\"#4d9221\"],[1,\"#276419\"]],\"sequential\":[[0.0,\"#0d0887\"],[0.1111111111111111,\"#46039f\"],[0.2222222222222222,\"#7201a8\"],[0.3333333333333333,\"#9c179e\"],[0.4444444444444444,\"#bd3786\"],[0.5555555555555556,\"#d8576b\"],[0.6666666666666666,\"#ed7953\"],[0.7777777777777778,\"#fb9f3a\"],[0.8888888888888888,\"#fdca26\"],[1.0,\"#f0f921\"]],\"sequentialminus\":[[0.0,\"#0d0887\"],[0.1111111111111111,\"#46039f\"],[0.2222222222222222,\"#7201a8\"],[0.3333333333333333,\"#9c179e\"],[0.4444444444444444,\"#bd3786\"],[0.5555555555555556,\"#d8576b\"],[0.6666666666666666,\"#ed7953\"],[0.7777777777777778,\"#fb9f3a\"],[0.8888888888888888,\"#fdca26\"],[1.0,\"#f0f921\"]]},\"colorway\":[\"#636efa\",\"#EF553B\",\"#00cc96\",\"#ab63fa\",\"#FFA15A\",\"#19d3f3\",\"#FF6692\",\"#B6E880\",\"#FF97FF\",\"#FECB52\"],\"font\":{\"color\":\"#2a3f5f\"},\"geo\":{\"bgcolor\":\"white\",\"lakecolor\":\"white\",\"landcolor\":\"#E5ECF6\",\"showlakes\":true,\"showland\":true,\"subunitcolor\":\"white\"},\"hoverlabel\":{\"align\":\"left\"},\"hovermode\":\"closest\",\"mapbox\":{\"style\":\"light\"},\"paper_bgcolor\":\"white\",\"plot_bgcolor\":\"#E5ECF6\",\"polar\":{\"angularaxis\":{\"gridcolor\":\"white\",\"linecolor\":\"white\",\"ticks\":\"\"},\"bgcolor\":\"#E5ECF6\",\"radialaxis\":{\"gridcolor\":\"white\",\"linecolor\":\"white\",\"ticks\":\"\"}},\"scene\":{\"xaxis\":{\"backgroundcolor\":\"#E5ECF6\",\"gridcolor\":\"white\",\"gridwidth\":2,\"linecolor\":\"white\",\"showbackground\":true,\"ticks\":\"\",\"zerolinecolor\":\"white\"},\"yaxis\":{\"backgroundcolor\":\"#E5ECF6\",\"gridcolor\":\"white\",\"gridwidth\":2,\"linecolor\":\"white\",\"showbackground\":true,\"ticks\":\"\",\"zerolinecolor\":\"white\"},\"zaxis\":{\"backgroundcolor\":\"#E5ECF6\",\"gridcolor\":\"white\",\"gridwidth\":2,\"linecolor\":\"white\",\"showbackground\":true,\"ticks\":\"\",\"zerolinecolor\":\"white\"}},\"shapedefaults\":{\"line\":{\"color\":\"#2a3f5f\"}},\"ternary\":{\"aaxis\":{\"gridcolor\":\"white\",\"linecolor\":\"white\",\"ticks\":\"\"},\"baxis\":{\"gridcolor\":\"white\",\"linecolor\":\"white\",\"ticks\":\"\"},\"bgcolor\":\"#E5ECF6\",\"caxis\":{\"gridcolor\":\"white\",\"linecolor\":\"white\",\"ticks\":\"\"}},\"title\":{\"x\":0.05},\"xaxis\":{\"automargin\":true,\"gridcolor\":\"white\",\"linecolor\":\"white\",\"ticks\":\"\",\"title\":{\"standoff\":15},\"zerolinecolor\":\"white\",\"zerolinewidth\":2},\"yaxis\":{\"automargin\":true,\"gridcolor\":\"white\",\"linecolor\":\"white\",\"ticks\":\"\",\"title\":{\"standoff\":15},\"zerolinecolor\":\"white\",\"zerolinewidth\":2}}},\"xaxis\":{\"anchor\":\"y\",\"domain\":[0.0,1.0],\"title\":{\"text\":\"VA\"}},\"yaxis\":{\"anchor\":\"x\",\"domain\":[0.0,1.0],\"title\":{\"text\":\"RS\"}},\"legend\":{\"tracegroupgap\":0},\"margin\":{\"t\":60}},                        {\"responsive\": true}                    ).then(function(){\n",
              "                            \n",
              "var gd = document.getElementById('7cc65ae0-0e39-4f4c-a71e-6b2c85cfdc61');\n",
              "var x = new MutationObserver(function (mutations, observer) {{\n",
              "        var display = window.getComputedStyle(gd).display;\n",
              "        if (!display || display === 'none') {{\n",
              "            console.log([gd, 'removed!']);\n",
              "            Plotly.purge(gd);\n",
              "            observer.disconnect();\n",
              "        }}\n",
              "}});\n",
              "\n",
              "// Listen for the removal of the full notebook cells\n",
              "var notebookContainer = gd.closest('#notebook-container');\n",
              "if (notebookContainer) {{\n",
              "    x.observe(notebookContainer, {childList: true});\n",
              "}}\n",
              "\n",
              "// Listen for the clearing of the current output cell\n",
              "var outputEl = gd.closest('.output');\n",
              "if (outputEl) {{\n",
              "    x.observe(outputEl, {childList: true});\n",
              "}}\n",
              "\n",
              "                        })                };                            </script>        </div>\n",
              "</body>\n",
              "</html>"
            ]
          },
          "metadata": {}
        }
      ]
    },
    {
      "cell_type": "markdown",
      "source": [
        "#Box plot showing the quality and the amount of alcohol in the wine"
      ],
      "metadata": {
        "id": "Vv5FpsVgVgay"
      }
    },
    {
      "cell_type": "code",
      "source": [
        "# Using seaborn to plot the box plot\n",
        "sns.boxplot('quality','alcohol',data = wine_quality)"
      ],
      "metadata": {
        "colab": {
          "base_uri": "https://localhost:8080/",
          "height": 386
        },
        "id": "zLPQRfCnVzro",
        "outputId": "16daf91a-0c18-4a64-909b-1fe10ff09e54"
      },
      "execution_count": null,
      "outputs": [
        {
          "output_type": "stream",
          "name": "stderr",
          "text": [
            "/usr/local/lib/python3.7/dist-packages/seaborn/_decorators.py:43: FutureWarning:\n",
            "\n",
            "Pass the following variables as keyword args: x, y. From version 0.12, the only valid positional argument will be `data`, and passing other arguments without an explicit keyword will result in an error or misinterpretation.\n",
            "\n"
          ]
        },
        {
          "output_type": "execute_result",
          "data": {
            "text/plain": [
              "<matplotlib.axes._subplots.AxesSubplot at 0x7f69e3634c90>"
            ]
          },
          "metadata": {},
          "execution_count": 10
        },
        {
          "output_type": "display_data",
          "data": {
            "image/png": "[encoded data removed]",
            "text/plain": [
              "<Figure size 432x288 with 1 Axes>"
            ]
          },
          "metadata": {
            "needs_background": "light"
          }
        }
      ]
    },
    {
      "cell_type": "markdown",
      "source": [
        "#Correlation Matrix for all the variables"
      ],
      "metadata": {
        "id": "MXXjrJfRWqig"
      }
    },
    {
      "cell_type": "code",
      "source": [
        "#Using seaborn to plot the correlation matrix\n",
        "sns.heatmap(wine_quality.corr(),annot = True)"
      ],
      "metadata": {
        "colab": {
          "base_uri": "https://localhost:8080/",
          "height": 325
        },
        "id": "Dk9tImZjW6-y",
        "outputId": "864bd424-0d4e-4c07-d0b6-0ce870401f65"
      },
      "execution_count": null,
      "outputs": [
        {
          "output_type": "execute_result",
          "data": {
            "text/plain": [
              "<matplotlib.axes._subplots.AxesSubplot at 0x7f69e2312e90>"
            ]
          },
          "metadata": {},
          "execution_count": 11
        },
        {
          "output_type": "display_data",
          "data": {
            "image/png": "[encoded data removed]",
            "text/plain": [
              "<Figure size 432x288 with 2 Axes>"
            ]
          },
          "metadata": {
            "needs_background": "light"
          }
        }
      ]
    }
  ]
}